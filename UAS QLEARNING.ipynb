{
 "cells": [
  {
   "cell_type": "code",
   "execution_count": 1,
   "id": "74f8d2ae-b211-456b-bdf1-60702ff955b4",
   "metadata": {},
   "outputs": [],
   "source": [
    "# Q-Learning Simulasi FIFA 23: Pemilihan Posisi Pemain\n",
    "# Tujuan: Menggunakan Q-Learning untuk memaksimalkan performa dengan memilih posisi pemain.\n",
    "\n",
    "# Impor library yang diperlukan\n",
    "import numpy as np\n",
    "import pandas as pd\n",
    "import random"
   ]
  },
  {
   "cell_type": "code",
   "execution_count": 2,
   "id": "3157519c-4547-455c-8a0a-fcbd0d762da4",
   "metadata": {},
   "outputs": [],
   "source": [
    "# Load dataset pemain FIFA 23\n",
    "file_path = 'Fifa 23 Players Data.csv'\n",
    "data = pd.read_csv(file_path)"
   ]
  },
  {
   "cell_type": "code",
   "execution_count": 3,
   "id": "d8ae2220-95d5-4475-8b0a-0f160ab95154",
   "metadata": {},
   "outputs": [],
   "source": [
    "# Pilih atribut yang relevan untuk simulasi\n",
    "# Kita fokus pada nama pemain, posisi terbaik, rating keseluruhan, dan rating per posisi\n",
    "fifa_data = data[[\"Full Name\", \"Best Position\", \"Overall\", \"ST Rating\", \"LW Rating\", \"RW Rating\", \"CM Rating\", \"CB Rating\"]]\n",
    "\n",
    "# Membersihkan data dengan menghapus baris yang memiliki nilai kosong\n",
    "fifa_data = fifa_data.dropna()"
   ]
  },
  {
   "cell_type": "code",
   "execution_count": 4,
   "id": "46009e2f-d8c0-4bb6-b433-014ef08b5df6",
   "metadata": {},
   "outputs": [
    {
     "name": "stdout",
     "output_type": "stream",
     "text": [
      "Jumlah data setelah pembersihan: 18539\n"
     ]
    }
   ],
   "source": [
    "# Melihat data setelah pembersihan\n",
    "print(f\"Jumlah data setelah pembersihan: {len(fifa_data)}\")\n",
    "\n",
    "# Definisikan parameter untuk Q-Learning\n",
    "states = fifa_data[\"Best Position\"].unique()  # Posisi sebagai state\n",
    "actions = [\"ST\", \"LW\", \"RW\", \"CM\", \"CB\"]  # Posisi yang bisa dipilih"
   ]
  },
  {
   "cell_type": "code",
   "execution_count": 5,
   "id": "838c9be2-cce8-4a1f-9b17-36ce3bb2feb2",
   "metadata": {},
   "outputs": [],
   "source": [
    "# Inisialisasi tabel Q dengan nilai nol\n",
    "q_table = pd.DataFrame(0, index=states, columns=actions)\n",
    "\n",
    "# Parameter Q-Learning\n",
    "alpha = 0.1  # Learning rate\n",
    "gamma = 0.9  # Discount factor\n",
    "epsilon = 0.2  # Epsilon untuk eksplorasi/eksploitasi"
   ]
  },
  {
   "cell_type": "code",
   "execution_count": 6,
   "id": "c6220624-d30d-4d88-b4f3-d0b95ca2196a",
   "metadata": {},
   "outputs": [],
   "source": [
    "# Fungsi reward: Memberikan reward berdasarkan rating posisi pemain\n",
    "def get_reward(player_row, action):\n",
    "    return player_row[f\"{action} Rating\"]"
   ]
  },
  {
   "cell_type": "code",
   "execution_count": 7,
   "id": "3726a972-8e38-4286-a533-b60c7c59b0d6",
   "metadata": {},
   "outputs": [
    {
     "name": "stderr",
     "output_type": "stream",
     "text": [
      "C:\\Users\\abidz.DESKTOP-PSVTACJ\\AppData\\Local\\Temp\\ipykernel_11692\\2125028538.py:21: FutureWarning: Setting an item of incompatible dtype is deprecated and will raise an error in a future version of pandas. Value '6.800000000000001' has dtype incompatible with int64, please explicitly cast to a compatible dtype first.\n",
      "  q_table.loc[state, action] = old_value + alpha * (reward + gamma * next_max - old_value)\n",
      "C:\\Users\\abidz.DESKTOP-PSVTACJ\\AppData\\Local\\Temp\\ipykernel_11692\\2125028538.py:21: FutureWarning: Setting an item of incompatible dtype is deprecated and will raise an error in a future version of pandas. Value '7.9' has dtype incompatible with int64, please explicitly cast to a compatible dtype first.\n",
      "  q_table.loc[state, action] = old_value + alpha * (reward + gamma * next_max - old_value)\n",
      "C:\\Users\\abidz.DESKTOP-PSVTACJ\\AppData\\Local\\Temp\\ipykernel_11692\\2125028538.py:21: FutureWarning: Setting an item of incompatible dtype is deprecated and will raise an error in a future version of pandas. Value '6.15524' has dtype incompatible with int64, please explicitly cast to a compatible dtype first.\n",
      "  q_table.loc[state, action] = old_value + alpha * (reward + gamma * next_max - old_value)\n",
      "C:\\Users\\abidz.DESKTOP-PSVTACJ\\AppData\\Local\\Temp\\ipykernel_11692\\2125028538.py:21: FutureWarning: Setting an item of incompatible dtype is deprecated and will raise an error in a future version of pandas. Value '5.46077' has dtype incompatible with int64, please explicitly cast to a compatible dtype first.\n",
      "  q_table.loc[state, action] = old_value + alpha * (reward + gamma * next_max - old_value)\n",
      "C:\\Users\\abidz.DESKTOP-PSVTACJ\\AppData\\Local\\Temp\\ipykernel_11692\\2125028538.py:21: FutureWarning: Setting an item of incompatible dtype is deprecated and will raise an error in a future version of pandas. Value '8.43289' has dtype incompatible with int64, please explicitly cast to a compatible dtype first.\n",
      "  q_table.loc[state, action] = old_value + alpha * (reward + gamma * next_max - old_value)\n"
     ]
    }
   ],
   "source": [
    "# Simulasi iterasi Q-Learning\n",
    "n_episodes = 1000  # Jumlah episode simulasi\n",
    "\n",
    "for episode in range(n_episodes):\n",
    "    # Pilih pemain secara acak sebagai state awal\n",
    "    player = fifa_data.sample(1).iloc[0]\n",
    "    state = player[\"Best Position\"]\n",
    "\n",
    "    # Pilih tindakan (eksplorasi atau eksploitasi)\n",
    "    if random.uniform(0, 1) < epsilon:\n",
    "        action = random.choice(actions)  # Eksplorasi\n",
    "    else:\n",
    "        action = q_table.loc[state].idxmax()  # Eksploitasi\n",
    "\n",
    "    # Hitung reward berdasarkan tindakan\n",
    "    reward = get_reward(player, action)\n",
    "\n",
    "    # Update Q-Table\n",
    "    old_value = q_table.loc[state, action]\n",
    "    next_max = q_table.loc[state].max()\n",
    "    q_table.loc[state, action] = old_value + alpha * (reward + gamma * next_max - old_value)"
   ]
  },
  {
   "cell_type": "code",
   "execution_count": 8,
   "id": "26124f63-1c84-4bbe-9ead-ef09f8127ab7",
   "metadata": {},
   "outputs": [
    {
     "name": "stdout",
     "output_type": "stream",
     "text": [
      "\n",
      "Q-Table setelah pelatihan:\n",
      "             ST          LW          RW          CM          CB\n",
      "CAM  435.736302  128.892367   64.719005  105.141519  124.616328\n",
      "CF    15.229000    0.000000    0.000000    0.000000    0.000000\n",
      "ST   454.278517   35.261181  201.426785  209.738549  125.893495\n",
      "CM    61.694830   89.971657   63.238443   33.202624  306.144068\n",
      "RW     0.000000   20.035312   74.893930   10.932031    0.000000\n",
      "GK    31.764372  140.837196   19.867337   55.607254   28.041979\n",
      "CB   116.276591  144.655189  387.494992  287.120191  153.343131\n",
      "LW    96.800798    8.358060    0.000000    0.000000    7.869996\n",
      "CDM  260.269453   36.616244   56.008880  114.096769   41.041282\n",
      "LM    23.747698   37.867734   49.544684  174.800683    0.000000\n",
      "LB    20.593813   26.870566  189.990295   35.332723    6.856565\n",
      "RM   324.952725   52.750227   73.392561   72.584792   95.368100\n",
      "RB   176.508420    0.000000    0.000000   21.164402   44.917580\n",
      "LWB  110.642045    0.000000   12.186285    0.000000    0.000000\n",
      "RWB   95.435654    0.000000    0.000000   10.796396    0.000000\n"
     ]
    }
   ],
   "source": [
    "# Menampilkan tabel Q setelah pelatihan\n",
    "print(\"\\nQ-Table setelah pelatihan:\")\n",
    "print(q_table)"
   ]
  },
  {
   "cell_type": "code",
   "execution_count": 9,
   "id": "230649de-c454-489a-ba16-ecc2aa9fd061",
   "metadata": {},
   "outputs": [
    {
     "name": "stdout",
     "output_type": "stream",
     "text": [
      "Untuk pemain Lionel Messi, posisi terbaik yang dipilih adalah: ST\n"
     ]
    }
   ],
   "source": [
    "# Fungsi untuk simulasi pemilihan posisi berdasarkan tabel Q\n",
    "\n",
    "def simulate_game(player_name):\n",
    "    player = fifa_data[fifa_data[\"Full Name\"] == player_name].iloc[0]\n",
    "    state = player[\"Best Position\"]\n",
    "    action = q_table.loc[state].idxmax()\n",
    "    print(f\"Untuk pemain {player_name}, posisi terbaik yang dipilih adalah: {action}\")\n",
    "\n",
    "# Contoh simulasi dengan nama pemain tertentu\n",
    "simulate_game(\"Lionel Messi\")"
   ]
  },
  {
   "cell_type": "code",
   "execution_count": null,
   "id": "ed55fcb2-208c-413c-882c-f58dd44b79aa",
   "metadata": {},
   "outputs": [],
   "source": []
  }
 ],
 "metadata": {
  "kernelspec": {
   "display_name": "Python 3 (ipykernel)",
   "language": "python",
   "name": "python3"
  },
  "language_info": {
   "codemirror_mode": {
    "name": "ipython",
    "version": 3
   },
   "file_extension": ".py",
   "mimetype": "text/x-python",
   "name": "python",
   "nbconvert_exporter": "python",
   "pygments_lexer": "ipython3",
   "version": "3.12.4"
  }
 },
 "nbformat": 4,
 "nbformat_minor": 5
}
